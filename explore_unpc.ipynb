{
 "cells": [
  {
   "cell_type": "markdown",
   "metadata": {},
   "source": [
    "## Предварительное изучение набора данных UNPC"
   ]
  },
  {
   "cell_type": "code",
   "execution_count": 59,
   "metadata": {},
   "outputs": [],
   "source": [
    "import os\n",
    "from collections import Counter\n",
    "\n",
    "import pandas as pd\n",
    "\n",
    "pd.set_option('display.float_format', lambda x: '%.f' % x)"
   ]
  },
  {
   "cell_type": "code",
   "execution_count": 54,
   "metadata": {},
   "outputs": [
    {
     "name": "stdout",
     "output_type": "stream",
     "text": [
      " 23239280 524719605 3447778761 UNv1.0.en-ru.en\r\n"
     ]
    }
   ],
   "source": [
    "# кол-во строк, слов, символов с пробелами (считая \\n)\n",
    "# ДО удаления повторов и непереведенных предложений\n",
    "!wc -l -w -m 'UNv1.0.en-ru.en'"
   ]
  },
  {
   "cell_type": "code",
   "execution_count": 56,
   "metadata": {},
   "outputs": [
    {
     "name": "stdout",
     "output_type": "stream",
     "text": [
      " 18217590 468927461 3076077507 data/en_clean.txt\r\n"
     ]
    }
   ],
   "source": [
    "# кол-во строк, слов, символов с пробелами (считая \\n)\n",
    "# ПОСЛЕ удаления повторов и непереведенных предложений\n",
    "!wc -l -w -m 'data/en_clean.txt'"
   ]
  },
  {
   "cell_type": "code",
   "execution_count": 57,
   "metadata": {},
   "outputs": [
    {
     "name": "stdout",
     "output_type": "stream",
     "text": [
      " 23239280 482966738 3805475315 UNv1.0.en-ru.ru\r\n"
     ]
    }
   ],
   "source": [
    "# то же самое для русской части\n",
    "!wc -l -w -m 'UNv1.0.en-ru.ru'"
   ]
  },
  {
   "cell_type": "code",
   "execution_count": 58,
   "metadata": {},
   "outputs": [
    {
     "name": "stdout",
     "output_type": "stream",
     "text": [
      " 18217590 431839641 3400826152 data/ru_clean.txt\r\n"
     ]
    }
   ],
   "source": [
    "!wc -l -w -m 'data/ru_clean.txt'"
   ]
  },
  {
   "cell_type": "code",
   "execution_count": 23,
   "metadata": {},
   "outputs": [],
   "source": [
    "# индексы строк содержатся в файле UNv1.0.en-ru.ids\n",
    "# пример идентификации строк\n",
    "example_list = \"\"\"\n",
    "1990/trans/wp_29/1999/14/add_1 en:43:1 ru:41:1\\n\n",
    "1990/trans/wp_29/1999/14/add_1 en:44:1 ru:42:1\\n\n",
    "1993/a/47/1000 en:7:1 ru:7:1\\n\n",
    "1993/a/47/1000 en:9:1 ru:9:1\\n\n",
    "1993/a/47/1000 en:10:1 ru:10:1\\n\n",
    "1993/a/47/1000 en:11:1 ru:11:1\\n\n",
    "1993/a/47/1000 en:12:1 ru:12:1\\n\n",
    "1993/a/47/1000 en:13:1 ru:13:1\\n\n",
    "1993/a/47/1000 en:14:1 ru:14:1\\n\n",
    "1993/a/47/1000 en:15:1 ru:15:1\\n\n",
    "1993/a/47/1000 en:16:1 ru:16:1\\n\n",
    "1993/a/47/1000 en:16:2 ru:16:2\\n\n",
    "1993/a/47/1000 en:17:1 ru:17:1\\n\n",
    "\"\"\".split('\\n')"
   ]
  },
  {
   "cell_type": "code",
   "execution_count": 27,
   "metadata": {},
   "outputs": [
    {
     "data": {
      "text/plain": [
       "[(('a', '47'), 11), (('trans', 'wp_29'), 2)]"
      ]
     },
     "execution_count": 27,
     "metadata": {},
     "output_type": "execute_result"
    }
   ],
   "source": [
    "c = Counter()\n",
    "for line in example_list:\n",
    "    if line:\n",
    "        text = line.split('/')\n",
    "        c.update([(text[1], text[2])])\n",
    "\n",
    "c.most_common()"
   ]
  },
  {
   "cell_type": "code",
   "execution_count": 60,
   "metadata": {},
   "outputs": [],
   "source": [
    "# Подсчет кол-ва строк по разным критериям\n",
    "def count_by(path):\n",
    "    by_year = Counter()\n",
    "    by_first_el = Counter()\n",
    "    by_two_el = Counter()\n",
    "    by_three_el = Counter()\n",
    "    with open(path, 'r', encoding='utf-8') as idx_file:\n",
    "        for line in idx_file:\n",
    "            if line:\n",
    "                line = line.strip().split('/')\n",
    "                try:\n",
    "                    by_year.update([line[0]])\n",
    "                    by_first_el.update([line[1]])\n",
    "                    by_two_el.update([(line[1], line[2])])\n",
    "                    by_three_el.update([(line[1], line[2], line[3])])\n",
    "                except IndexError:\n",
    "                    pass\n",
    "    return by_year, by_first_el, by_two_el, by_three_el"
   ]
  },
  {
   "cell_type": "code",
   "execution_count": null,
   "metadata": {},
   "outputs": [],
   "source": [
    "# в оригинальном файле\n",
    "counts_orig = count_by('UNv1.0.en-ru.ids')"
   ]
  },
  {
   "cell_type": "code",
   "execution_count": 61,
   "metadata": {},
   "outputs": [],
   "source": [
    "# в файле после очистки\n",
    "counts_clean =  count_by(os.path.join('data', 'ids_clean.txt'))"
   ]
  },
  {
   "cell_type": "code",
   "execution_count": 36,
   "metadata": {},
   "outputs": [
    {
     "data": {
      "text/plain": [
       "dict_items([('1990', 38), ('1993', 293377), ('1994', 754526), ('1995', 741322), ('1996', 769402), ('1997', 867670), ('1998', 925509), ('1999', 983868), ('2000', 694729), ('2001', 677616), ('2002', 1080683), ('2003', 1102801), ('2004', 1172013), ('2005', 1185567), ('2006', 1259275), ('2007', 1240023), ('2008', 1358682), ('2009', 1301024), ('2010', 1384765), ('2011', 1413653), ('2012', 1346634), ('2013', 1375985), ('2014', 1310118)])"
      ]
     },
     "execution_count": 36,
     "metadata": {},
     "output_type": "execute_result"
    }
   ],
   "source": [
    "by_year.items()"
   ]
  },
  {
   "cell_type": "code",
   "execution_count": 125,
   "metadata": {},
   "outputs": [
    {
     "name": "stdout",
     "output_type": "stream",
     "text": [
      "38 \t1990\t\n",
      "293377 \t1993\t\n",
      "754526 \t1994\t\n",
      "741322 \t1995\t\n",
      "769402 \t1996\t\n",
      "867670 \t1997\t\n",
      "925509 \t1998\t\n",
      "983868 \t1999\t\n",
      "694729 \t2000\t\n",
      "677616 \t2001\t\n",
      "1080683 \t2002\t\n",
      "1102801 \t2003\t\n",
      "1172013 \t2004\t\n",
      "1185567 \t2005\t\n",
      "1259275 \t2006\t\n",
      "1240023 \t2007\t\n",
      "1358682 \t2008\t\n",
      "1301024 \t2009\t\n",
      "1384765 \t2010\t\n",
      "1413653 \t2011\t\n",
      "1346634 \t2012\t\n",
      "1375985 \t2013\t\n",
      "1310118 \t2014\t\n"
     ]
    }
   ],
   "source": [
    "# разбивка в оригинельном корпусе\n",
    "for item in by_year.items():\n",
    "    print(f'{item[1]} \\t{item[0]}\\t')  #"
   ]
  },
  {
   "cell_type": "code",
   "execution_count": 68,
   "metadata": {},
   "outputs": [
    {
     "name": "stdout",
     "output_type": "stream",
     "text": [
      "32\n",
      "262123\n",
      "646561\n",
      "597157\n",
      "624760\n",
      "689438\n",
      "745852\n",
      "767408\n",
      "565738\n",
      "541289\n",
      "866413\n",
      "871845\n",
      "927058\n",
      "948978\n",
      "989491\n",
      "967447\n",
      "1045964\n",
      "1002857\n",
      "1073165\n",
      "1086654\n",
      "1012616\n",
      "1024219\n",
      "960525\n"
     ]
    }
   ],
   "source": [
    "# после удаление повторов и тд\n",
    "for item in counts_clean[0].items():\n",
    "    print(f'{item[1]}')"
   ]
  },
  {
   "cell_type": "code",
   "execution_count": 51,
   "metadata": {},
   "outputs": [
    {
     "name": "stdout",
     "output_type": "stream",
     "text": [
      "a\t10274840\t\t\n",
      "e\t3055569\t\t\n",
      "s\t1645784\t\t\n",
      "ece\t1551302\t\t\n",
      "cedaw\t806527\t\t\n",
      "cerd\t485993\t\t\n",
      "trans\t473294\t\t\n",
      "td\t446469\t\t\n",
      "unep\t417435\t\t\n",
      "cat\t334240\t\t\n",
      "fccc\t314830\t\t\n",
      "dp\t261116\t\t\n",
      "ccpr\t253505\t\t\n",
      "crc\t192744\t\t\n",
      "hri\t187687\t\t\n"
     ]
    }
   ],
   "source": [
    "# по органу, выпустившему документ\n",
    "for item in by_first_el.most_common(15):\n",
    "    print(f'{item[0]}\\t{item[1]}\\t\\t')"
   ]
  },
  {
   "cell_type": "code",
   "execution_count": 70,
   "metadata": {},
   "outputs": [
    {
     "name": "stdout",
     "output_type": "stream",
     "text": [
      "a\t8212074\t\t\n",
      "e\t2495126\t\t\n",
      "s\t1341648\t\t\n",
      "ece\t1083461\t\t\n",
      "cedaw\t727517\t\t\n",
      "cerd\t421211\t\t\n",
      "td\t356949\t\t\n",
      "trans\t328707\t\t\n",
      "unep\t289818\t\t\n",
      "cat\t275163\t\t\n",
      "fccc\t237558\t\t\n",
      "dp\t227167\t\t\n",
      "ccpr\t211032\t\t\n",
      "cd\t170939\t\t\n",
      "crc\t156863\t\t\n",
      "hri\t132100\t\t\n",
      "iccd\t107414\t\t\n"
     ]
    }
   ],
   "source": [
    "for item in counts_clean[1].most_common(17):\n",
    "    print(f'{item[0]}\\t{item[1]}\\t\\t')"
   ]
  },
  {
   "cell_type": "code",
   "execution_count": 71,
   "metadata": {},
   "outputs": [
    {
     "data": {
      "text/plain": [
       "208"
      ]
     },
     "execution_count": 71,
     "metadata": {},
     "output_type": "execute_result"
    }
   ],
   "source": [
    "# всего элементов в списке органов\n",
    "len(counts_clean[1].items())"
   ]
  },
  {
   "cell_type": "code",
   "execution_count": 72,
   "metadata": {
    "scrolled": true
   },
   "outputs": [
    {
     "data": {
      "text/plain": [
       "dict_items([('trans', 328707), ('a', 8212074), ('cedaw', 727517), ('dp', 227167), ('e', 2495126), ('los', 5785), ('npt', 80697), ('s', 1341648), ('st', 55631), ('td', 356949), ('cat', 275163), ('ccpr', 211032), ('cd', 170939), ('cerd', 421211), ('ces', 93844), ('crc', 156863), ('ece', 1083461), ('euro', 133), ('hbp', 15814), ('hri', 132100), ('isba', 34496), ('journal_no_1994', 5487), ('splos', 40142), ('t', 103), ('unctad', 8935), ('anglais', 306), ('cep', 38040), ('chem', 1319), ('fccc', 237558), ('itc', 1634), ('journal_no_1995', 10540), ('sg', 1560), ('sof_conf', 2395), ('tcdc', 3544), ('ccw', 48661), ('dl', 64), ('eb_air', 68497), ('ecn_4', 232), ('fcc', 177), ('hs', 3659), ('journal_no_1996', 10292), ('sploos', 98), ('steel', 242), ('trade', 104148), ('unep', 289818), ('agri', 211), ('cee', 253), ('clcs', 9298), ('ctbt', 740), ('energy', 33269), ('gc_7', 3478), ('iccd', 107414), ('journal_no_1997', 10436), ('mp_wat', 10164), ('opa', 6507), ('tdbex_15_', 49), ('tim', 18410), ('_e', 345), ('arh_conf', 185), ('bla en:15:1 ru:15:1', 1), ('bla en:16:1 ru:16:1', 1), ('bla en:17:1 ru:17:1', 1), ('bla en:18:1 en:19:1 ru:18:1', 1), ('bla en:20:1 ru:19:1', 1), ('bla en:24:1 ru:20:1', 1), ('bla en:25:1 ru:21:1', 1), ('bla en:36:1 ru:39:1', 1), ('bla en:38:1 en:39:1 en:40:1 ru:40:1', 1), ('bla en:41:1 en:42:1 ru:41:1', 1), ('bla en:43:1 ru:42:1', 1), ('bla en:51:1 ru:50:1', 1), ('bla en:52:1 ru:51:1', 1), ('bla en:53:1 ru:52:1', 1), ('bla en:54:1 ru:53:1', 1), ('bla en:55:1 ru:54:1', 1), ('bla en:56:1 ru:55:1', 1), ('bla en:57:1 ru:56:1', 1), ('bla en:58:1 ru:57:1', 1), ('bla en:59:1 ru:58:1', 1), ('bla en:61:1 ru:60:1', 1), ('bla en:62:1 ru:61:1', 1), ('bla en:62:2 ru:61:2', 1), ('bla en:62:3 ru:61:3', 1), ('bla en:64:1 ru:63:1', 1), ('bla en:66:1 ru:65:1', 1), ('bla en:67:1 ru:66:1', 1), ('bla en:69:1 en:70:1 en:71:1 ru:67:1', 1), ('bla en:73:1 ru:68:1', 1), ('bla en:75:1 ru:69:1', 1), ('bla en:76:1 ru:70:1', 1), ('bla en:77:1 ru:71:1', 1), ('bla en:79:1 ru:72:1', 1), ('bla en:81:1 ru:74:1', 1), ('bla en:82:1 ru:75:1', 1), ('bla en:84:1 en:85:1 ru:77:1', 1), ('bla en:86:1 ru:78:1', 1), ('bla en:89:1 ru:80:1', 1), ('bla en:91:1 ru:82:1', 1), ('bla en:93:1 ru:84:1', 1), ('ehco_020102_a', 37), ('eur', 161), ('gc_8', 3763), ('idb_19', 2085), ('idb_20', 1859), ('jmte', 1618), ('journal_no_1998', 10862), ('mp_eia', 7675), ('pbc_14', 74), ('undcp', 55), ('aplc', 30378), ('idb_21', 2525), ('journal_no_1999', 10142), ('pbc_15', 84), ('pcnicc', 14849), ('practiceopa', 156), ('td_x_', 4691), ('td_x_rt_1', 410), ('cp', 69), ('cp_teia', 5260), ('fo_efc', 798), ('gc_9', 1455), ('idb_23', 1844), ('journal_no_2000', 9670), ('pbc_16', 1044), ('gegn', 895), ('hcr', 1280), ('idb_24', 3340), ('journal_no_2001', 8862), ('pbc_17', 203), ('gc_10', 6168), ('hsp', 31894), ('icc_asp', 12069), ('idb_25', 1811), ('idb_26', 3519), ('journal_no__2002', 11764), ('mp_pp', 7473), ('pbc_18', 58), ('bwc', 19975), ('cmw', 21969), ('idb_27', 4578), ('journal_no__2003', 11365), ('kiev_conf', 17), ('pbc_19', 59), ('saicm', 22584), ('td_xi_', 2180), ('unodc', 15017), ('ctoc', 26628), ('gc_11', 7662), ('idb_28', 2364), ('idb_29', 3620), ('journal_no__2004', 11373), ('pbc_20', 54), ('ctbt_art_xiv', 1133), ('idb_30', 3445), ('journal_no_2005', 11784), ('pbc_21', 79), ('ssc', 2122), ('cac', 53991), ('dp_fpa', 395), ('gc_12', 5803), ('idb_31', 1802), ('idb_32', 3219), ('jiu', 23996), ('journal_no_2006', 11580), ('pbc', 20865), ('pbc_22', 45), ('unemg', 160), ('idb_33', 3487), ('journal_no_2007', 10334), ('pbc_23', 62), ('td_xii_', 656), ('unep_dtie_', 26461), ('crpd', 15375), ('gc_13', 6673), ('idb_34', 2270), ('idb_35', 3942), ('journal_no_2008', 9739), ('pbc_24', 36), ('idb_36', 6270), ('journal_no_2009', 10144), ('pbc_25', 69), ('ccm', 5225), ('gc_14', 4177), ('idb_37', 1844), ('idb_38', 4565), ('journal_no_2010', 11066), ('pbc_26', 60), ('ced', 11492), ('ctbt_art__xiv', 29), ('dp_fpa_ops', 172), ('idb_39', 6608), ('journal_no_2011', 11406), ('pbc_27', 90), ('td_xiii_', 816), ('unw', 11786), ('idb_40', 4570), ('ipbes', 9227), ('journal_no_2012', 10311), ('pbc_28', 59), ('gc', 237), ('gc_15', 4153), ('idb_41', 5439), ('journal_no_2013', 11155), ('pbc_29', 80), ('gc_16', 141), ('idb_42', 2548), ('journal_no_2014', 9440), ('pbc_30', 5)])"
      ]
     },
     "execution_count": 72,
     "metadata": {},
     "output_type": "execute_result"
    }
   ],
   "source": [
    "# весь списко органов\n",
    "counts_clean[1].items()"
   ]
  },
  {
   "cell_type": "code",
   "execution_count": 34,
   "metadata": {
    "scrolled": true
   },
   "outputs": [
    {
     "data": {
      "text/plain": [
       "[(('a', 'hrc'), 867428),\n",
       " (('cedaw', 'c'), 789625),\n",
       " (('ece', 'trans'), 769399),\n",
       " (('e', 'cn_4'), 617471),\n",
       " (('cerd', 'c'), 481233),\n",
       " (('a', '65'), 397729),\n",
       " (('td', 'b'), 388396),\n",
       " (('a', '64'), 385322),\n",
       " (('a', '62'), 382668),\n",
       " (('a', '66'), 379448),\n",
       " (('a', '63'), 367559),\n",
       " (('a', '61'), 345962),\n",
       " (('a', '67'), 337558),\n",
       " (('a', '68'), 336251),\n",
       " (('a', '59'), 330816),\n",
       " (('a', '60'), 328596),\n",
       " (('a', '50'), 316613),\n",
       " (('a', 'c_5'), 313687),\n",
       " (('cat', 'c'), 309759),\n",
       " (('a', '58'), 302077),\n",
       " (('a', '49'), 299288),\n",
       " (('a', '51'), 291909),\n",
       " (('a', '52'), 281698),\n",
       " (('a', '57'), 271695),\n",
       " (('e', 'c_12'), 271402),\n",
       " (('a', '69'), 264442),\n",
       " (('a', 'c_3'), 262692),\n",
       " (('a', '48'), 255706),\n",
       " (('a', '54'), 254319),\n",
       " (('a', 'res'), 245418)]"
      ]
     },
     "execution_count": 34,
     "metadata": {},
     "output_type": "execute_result"
    }
   ],
   "source": [
    "by_two_el.most_common(30)"
   ]
  },
  {
   "cell_type": "code",
   "execution_count": 35,
   "metadata": {
    "scrolled": true
   },
   "outputs": [
    {
     "data": {
      "text/plain": [
       "[(('ece', 'trans', 'wp_29'), 334854),\n",
       " (('a', 'hrc', 'wg_6'), 265874),\n",
       " (('e', 'ece', '324'), 213852),\n",
       " (('e', 'cn_4', 'sub_2'), 123034),\n",
       " (('ece', 'trans', 'wp_15'), 111509),\n",
       " (('ece', 'trade', 'c'), 109060),\n",
       " (('e', '1990', '5'), 84073),\n",
       " (('ece', 'trans', 'sc_3'), 76357),\n",
       " (('unep', 'fao', 'rc'), 65822),\n",
       " (('td', 'b', 'com_2'), 58559),\n",
       " (('trans', 'wp_15', 'ac_1'), 55450),\n",
       " (('ece', 'trans', 'wp_30'), 51069),\n",
       " (('e', 'cn_4', '1998'), 50822),\n",
       " (('e', 'cn_4', '1999'), 47423),\n",
       " (('e', 'cn_4', '2000'), 47253),\n",
       " (('e', 'cn_4', '1997'), 46487),\n",
       " (('td', 'b', 'c_i'), 46050),\n",
       " (('hri', 'core', '1'), 45926),\n",
       " (('fccc', 'kp', 'cmp'), 44366),\n",
       " (('td', 'b', 'com_1'), 43412),\n",
       " (('e', '1994', '104'), 40857),\n",
       " (('e', 'cn_4', '1995'), 40060),\n",
       " (('e', 'cn_4', '2005'), 39223),\n",
       " (('e', '1990', '6'), 38857),\n",
       " (('e', 'cn_4', '2006'), 37673),\n",
       " (('e', 'cn_4', '2002'), 37313),\n",
       " (('e', 'cn_4', '2003'), 36729),\n",
       " (('e', 'cn_4', '2004'), 36260),\n",
       " (('e', 'cn_4', '1996'), 36095),\n",
       " (('td', 'b', 'com_3'), 35627)]"
      ]
     },
     "execution_count": 35,
     "metadata": {},
     "output_type": "execute_result"
    }
   ],
   "source": [
    "by_three_el.most_common(30)"
   ]
  },
  {
   "cell_type": "code",
   "execution_count": 40,
   "metadata": {},
   "outputs": [],
   "source": [
    "a_list = []\n",
    "for key, val in by_three_el.items():\n",
    "    if key[0] == 'a':\n",
    "        a_list.append((key, val))"
   ]
  },
  {
   "cell_type": "code",
   "execution_count": 46,
   "metadata": {
    "scrolled": true
   },
   "outputs": [
    {
     "data": {
      "text/plain": [
       "[(('a', 'hrc', 'wg_6'), 265874),\n",
       " (('a', 'hrc', '13'), 35570),\n",
       " (('a', 'cn_9', 'ser_c'), 32461),\n",
       " (('a', 'hrc', '10'), 32094),\n",
       " (('a', 'hrc', '4'), 30768),\n",
       " (('a', 'hrc', '19'), 29963),\n",
       " (('a', 'hrc', '16'), 27939),\n",
       " (('a', 'hrc', '12'), 24941),\n",
       " (('a', 'hrc', '15'), 24814),\n",
       " (('a', 'c_5', '51'), 24477),\n",
       " (('a', 'c_5', '48'), 24278),\n",
       " (('a', 'c_5', '52'), 24023),\n",
       " (('a', 'hrc', '7'), 24005),\n",
       " (('a', 'c_5', '50'), 23311),\n",
       " (('a', 'hrc', '8'), 23202),\n",
       " (('a', 'hrc', '25'), 22553),\n",
       " (('a', 'hrc', '22'), 22069),\n",
       " (('a', 'c_5', '49'), 22048),\n",
       " (('a', 'hrc', 'wgad'), 21773),\n",
       " (('a', 'hrc', '21'), 21517),\n",
       " (('a', 'hrc', '17'), 21490),\n",
       " (('a', 'hrc', '27'), 21344),\n",
       " (('a', 'hrc', '18'), 21325),\n",
       " (('a', 'hrc', '23'), 20938),\n",
       " (('a', 'c_3', '69'), 20922),\n",
       " (('a', '65', '5'), 20818),\n",
       " (('a', '67', '5'), 20665),\n",
       " (('a', '69', '5'), 20505),\n",
       " (('a', '61', '5'), 20295),\n",
       " (('a', '63', '5'), 19721)]"
      ]
     },
     "execution_count": 46,
     "metadata": {},
     "output_type": "execute_result"
    }
   ],
   "source": [
    "# какие подкомоненты есть у документов Генассамблеи\n",
    "sorted(a_list, key=lambda elem: elem[1], reverse=True)[:30]"
   ]
  },
  {
   "cell_type": "code",
   "execution_count": 75,
   "metadata": {},
   "outputs": [
    {
     "name": "stdout",
     "output_type": "stream",
     "text": [
      "3161382:1998/bla en:15:1 ru:15:1\r\n",
      "3161383:1998/bla en:16:1 ru:16:1\r\n",
      "3161384:1998/bla en:17:1 ru:17:1\r\n",
      "3161385:1998/bla en:18:1 en:19:1 ru:18:1\r\n",
      "3161386:1998/bla en:20:1 ru:19:1\r\n",
      "3161387:1998/bla en:24:1 ru:20:1\r\n",
      "3161388:1998/bla en:25:1 ru:21:1\r\n",
      "3161389:1998/bla en:36:1 ru:39:1\r\n",
      "3161390:1998/bla en:38:1 en:39:1 en:40:1 ru:40:1\r\n",
      "3161391:1998/bla en:41:1 en:42:1 ru:41:1\r\n",
      "3161392:1998/bla en:43:1 ru:42:1\r\n",
      "3161393:1998/bla en:51:1 ru:50:1\r\n",
      "3161394:1998/bla en:52:1 ru:51:1\r\n",
      "3161395:1998/bla en:53:1 ru:52:1\r\n",
      "3161396:1998/bla en:54:1 ru:53:1\r\n",
      "3161397:1998/bla en:55:1 ru:54:1\r\n",
      "3161398:1998/bla en:56:1 ru:55:1\r\n",
      "3161399:1998/bla en:57:1 ru:56:1\r\n",
      "3161400:1998/bla en:58:1 ru:57:1\r\n",
      "3161401:1998/bla en:59:1 ru:58:1\r\n",
      "3161402:1998/bla en:61:1 ru:60:1\r\n",
      "3161403:1998/bla en:62:1 ru:61:1\r\n",
      "3161404:1998/bla en:62:2 ru:61:2\r\n",
      "3161405:1998/bla en:62:3 ru:61:3\r\n",
      "3161406:1998/bla en:64:1 ru:63:1\r\n",
      "3161407:1998/bla en:66:1 ru:65:1\r\n",
      "3161408:1998/bla en:67:1 ru:66:1\r\n",
      "3161409:1998/bla en:69:1 en:70:1 en:71:1 ru:67:1\r\n",
      "3161410:1998/bla en:73:1 ru:68:1\r\n",
      "3161411:1998/bla en:75:1 ru:69:1\r\n",
      "3161412:1998/bla en:76:1 ru:70:1\r\n",
      "3161413:1998/bla en:77:1 ru:71:1\r\n",
      "3161414:1998/bla en:79:1 ru:72:1\r\n",
      "3161415:1998/bla en:81:1 ru:74:1\r\n",
      "3161416:1998/bla en:82:1 ru:75:1\r\n",
      "3161417:1998/bla en:84:1 en:85:1 ru:77:1\r\n",
      "3161418:1998/bla en:86:1 ru:78:1\r\n",
      "3161419:1998/bla en:89:1 ru:80:1\r\n",
      "3161420:1998/bla en:91:1 ru:82:1\r\n",
      "3161421:1998/bla en:93:1 ru:84:1\r\n"
     ]
    }
   ],
   "source": [
    "# непонятный элемент в классифкации документов\n",
    "!grep -n 'bla' 'data/ids_clean.txt'"
   ]
  },
  {
   "cell_type": "code",
   "execution_count": 92,
   "metadata": {},
   "outputs": [
    {
     "name": "stdout",
     "output_type": "stream",
     "text": [
      "en_words,en_chars,ru_words,ru_chars,year,body\r\n",
      "2,14,2,18,1990,trans\r\n",
      "4,30,3,34,1990,trans\r\n"
     ]
    }
   ],
   "source": [
    "# создал сsv-файл с подсчетом слов и знаков\n",
    "!head -3 'data/unsimple.csv'"
   ]
  },
  {
   "cell_type": "code",
   "execution_count": 90,
   "metadata": {},
   "outputs": [
    {
     "name": "stdout",
     "output_type": "stream",
     "text": [
      "UNITED NATIONS\r\n",
      "ECONOMIC COMMISSION FOR EUROPE\r\n"
     ]
    }
   ],
   "source": [
    "!head -2 'data/en_clean.txt'"
   ]
  },
  {
   "cell_type": "code",
   "execution_count": 91,
   "metadata": {},
   "outputs": [
    {
     "name": "stdout",
     "output_type": "stream",
     "text": [
      "ОБЪЕДИНЕННЫХ НАЦИЙ\r\n",
      "ЕВРОПЕЙСКАЯ ЭКОНОМИЧЕСКАЯ КОМИССИЯ\r\n"
     ]
    }
   ],
   "source": [
    "!head -2 'data/ru_clean.txt'"
   ]
  },
  {
   "cell_type": "code",
   "execution_count": 127,
   "metadata": {},
   "outputs": [],
   "source": [
    "df = pd.read_csv('data/unsimple.csv')"
   ]
  },
  {
   "cell_type": "code",
   "execution_count": 128,
   "metadata": {},
   "outputs": [
    {
     "data": {
      "text/html": [
       "<div>\n",
       "<style scoped>\n",
       "    .dataframe tbody tr th:only-of-type {\n",
       "        vertical-align: middle;\n",
       "    }\n",
       "\n",
       "    .dataframe tbody tr th {\n",
       "        vertical-align: top;\n",
       "    }\n",
       "\n",
       "    .dataframe thead th {\n",
       "        text-align: right;\n",
       "    }\n",
       "</style>\n",
       "<table border=\"1\" class=\"dataframe\">\n",
       "  <thead>\n",
       "    <tr style=\"text-align: right;\">\n",
       "      <th></th>\n",
       "      <th>en_words</th>\n",
       "      <th>en_chars</th>\n",
       "      <th>ru_words</th>\n",
       "      <th>ru_chars</th>\n",
       "      <th>year</th>\n",
       "      <th>body</th>\n",
       "    </tr>\n",
       "  </thead>\n",
       "  <tbody>\n",
       "    <tr>\n",
       "      <th>0</th>\n",
       "      <td>2</td>\n",
       "      <td>14</td>\n",
       "      <td>2</td>\n",
       "      <td>18</td>\n",
       "      <td>1990</td>\n",
       "      <td>trans</td>\n",
       "    </tr>\n",
       "    <tr>\n",
       "      <th>1</th>\n",
       "      <td>4</td>\n",
       "      <td>30</td>\n",
       "      <td>3</td>\n",
       "      <td>34</td>\n",
       "      <td>1990</td>\n",
       "      <td>trans</td>\n",
       "    </tr>\n",
       "    <tr>\n",
       "      <th>2</th>\n",
       "      <td>3</td>\n",
       "      <td>26</td>\n",
       "      <td>4</td>\n",
       "      <td>33</td>\n",
       "      <td>1990</td>\n",
       "      <td>trans</td>\n",
       "    </tr>\n",
       "    <tr>\n",
       "      <th>3</th>\n",
       "      <td>7</td>\n",
       "      <td>45</td>\n",
       "      <td>6</td>\n",
       "      <td>50</td>\n",
       "      <td>1990</td>\n",
       "      <td>trans</td>\n",
       "    </tr>\n",
       "    <tr>\n",
       "      <th>4</th>\n",
       "      <td>9</td>\n",
       "      <td>52</td>\n",
       "      <td>9</td>\n",
       "      <td>51</td>\n",
       "      <td>1990</td>\n",
       "      <td>trans</td>\n",
       "    </tr>\n",
       "  </tbody>\n",
       "</table>\n",
       "</div>"
      ],
      "text/plain": [
       "   en_words  en_chars  ru_words  ru_chars  year   body\n",
       "0         2        14         2        18  1990  trans\n",
       "1         4        30         3        34  1990  trans\n",
       "2         3        26         4        33  1990  trans\n",
       "3         7        45         6        50  1990  trans\n",
       "4         9        52         9        51  1990  trans"
      ]
     },
     "execution_count": 128,
     "metadata": {},
     "output_type": "execute_result"
    }
   ],
   "source": [
    "df.head()"
   ]
  },
  {
   "cell_type": "code",
   "execution_count": 100,
   "metadata": {
    "scrolled": true
   },
   "outputs": [
    {
     "data": {
      "text/html": [
       "<div>\n",
       "<style scoped>\n",
       "    .dataframe tbody tr th:only-of-type {\n",
       "        vertical-align: middle;\n",
       "    }\n",
       "\n",
       "    .dataframe tbody tr th {\n",
       "        vertical-align: top;\n",
       "    }\n",
       "\n",
       "    .dataframe thead th {\n",
       "        text-align: right;\n",
       "    }\n",
       "</style>\n",
       "<table border=\"1\" class=\"dataframe\">\n",
       "  <thead>\n",
       "    <tr style=\"text-align: right;\">\n",
       "      <th></th>\n",
       "      <th>en_words</th>\n",
       "      <th>en_chars</th>\n",
       "      <th>ru_words</th>\n",
       "      <th>ru_chars</th>\n",
       "      <th>year</th>\n",
       "    </tr>\n",
       "  </thead>\n",
       "  <tbody>\n",
       "    <tr>\n",
       "      <th>count</th>\n",
       "      <td>18217590</td>\n",
       "      <td>18217590</td>\n",
       "      <td>18217590</td>\n",
       "      <td>18217590</td>\n",
       "      <td>18217590</td>\n",
       "    </tr>\n",
       "    <tr>\n",
       "      <th>mean</th>\n",
       "      <td>26</td>\n",
       "      <td>168</td>\n",
       "      <td>24</td>\n",
       "      <td>186</td>\n",
       "      <td>2005</td>\n",
       "    </tr>\n",
       "    <tr>\n",
       "      <th>std</th>\n",
       "      <td>19</td>\n",
       "      <td>124</td>\n",
       "      <td>17</td>\n",
       "      <td>138</td>\n",
       "      <td>6</td>\n",
       "    </tr>\n",
       "    <tr>\n",
       "      <th>min</th>\n",
       "      <td>1</td>\n",
       "      <td>1</td>\n",
       "      <td>1</td>\n",
       "      <td>1</td>\n",
       "      <td>1990</td>\n",
       "    </tr>\n",
       "    <tr>\n",
       "      <th>25%</th>\n",
       "      <td>13</td>\n",
       "      <td>84</td>\n",
       "      <td>12</td>\n",
       "      <td>93</td>\n",
       "      <td>2000</td>\n",
       "    </tr>\n",
       "    <tr>\n",
       "      <th>50%</th>\n",
       "      <td>23</td>\n",
       "      <td>147</td>\n",
       "      <td>21</td>\n",
       "      <td>162</td>\n",
       "      <td>2006</td>\n",
       "    </tr>\n",
       "    <tr>\n",
       "      <th>75%</th>\n",
       "      <td>34</td>\n",
       "      <td>222</td>\n",
       "      <td>31</td>\n",
       "      <td>246</td>\n",
       "      <td>2010</td>\n",
       "    </tr>\n",
       "    <tr>\n",
       "      <th>max</th>\n",
       "      <td>1692</td>\n",
       "      <td>11542</td>\n",
       "      <td>1501</td>\n",
       "      <td>12570</td>\n",
       "      <td>2014</td>\n",
       "    </tr>\n",
       "  </tbody>\n",
       "</table>\n",
       "</div>"
      ],
      "text/plain": [
       "       en_words  en_chars  ru_words  ru_chars     year\n",
       "count  18217590  18217590  18217590  18217590 18217590\n",
       "mean         26       168        24       186     2005\n",
       "std          19       124        17       138        6\n",
       "min           1         1         1         1     1990\n",
       "25%          13        84        12        93     2000\n",
       "50%          23       147        21       162     2006\n",
       "75%          34       222        31       246     2010\n",
       "max        1692     11542      1501     12570     2014"
      ]
     },
     "execution_count": 100,
     "metadata": {},
     "output_type": "execute_result"
    }
   ],
   "source": [
    "df.describe()"
   ]
  },
  {
   "cell_type": "code",
   "execution_count": 129,
   "metadata": {},
   "outputs": [],
   "source": [
    "# посчитать разницу в кол-ве слов между англ. и русским\n",
    "df['diff_len_w'] = df.loc[:, 'en_words'] - df.loc[:, 'ru_words']\n",
    "df['diff_len_c'] = df.loc[:, 'en_chars'] - df.loc[:, 'ru_chars']"
   ]
  },
  {
   "cell_type": "code",
   "execution_count": 130,
   "metadata": {},
   "outputs": [
    {
     "data": {
      "text/html": [
       "<div>\n",
       "<style scoped>\n",
       "    .dataframe tbody tr th:only-of-type {\n",
       "        vertical-align: middle;\n",
       "    }\n",
       "\n",
       "    .dataframe tbody tr th {\n",
       "        vertical-align: top;\n",
       "    }\n",
       "\n",
       "    .dataframe thead th {\n",
       "        text-align: right;\n",
       "    }\n",
       "</style>\n",
       "<table border=\"1\" class=\"dataframe\">\n",
       "  <thead>\n",
       "    <tr style=\"text-align: right;\">\n",
       "      <th></th>\n",
       "      <th>en_words</th>\n",
       "      <th>en_chars</th>\n",
       "      <th>ru_words</th>\n",
       "      <th>ru_chars</th>\n",
       "      <th>year</th>\n",
       "      <th>body</th>\n",
       "      <th>diff_len_w</th>\n",
       "      <th>diff_len_c</th>\n",
       "    </tr>\n",
       "  </thead>\n",
       "  <tbody>\n",
       "    <tr>\n",
       "      <th>0</th>\n",
       "      <td>2</td>\n",
       "      <td>14</td>\n",
       "      <td>2</td>\n",
       "      <td>18</td>\n",
       "      <td>1990</td>\n",
       "      <td>trans</td>\n",
       "      <td>0</td>\n",
       "      <td>-4</td>\n",
       "    </tr>\n",
       "    <tr>\n",
       "      <th>1</th>\n",
       "      <td>4</td>\n",
       "      <td>30</td>\n",
       "      <td>3</td>\n",
       "      <td>34</td>\n",
       "      <td>1990</td>\n",
       "      <td>trans</td>\n",
       "      <td>1</td>\n",
       "      <td>-4</td>\n",
       "    </tr>\n",
       "    <tr>\n",
       "      <th>2</th>\n",
       "      <td>3</td>\n",
       "      <td>26</td>\n",
       "      <td>4</td>\n",
       "      <td>33</td>\n",
       "      <td>1990</td>\n",
       "      <td>trans</td>\n",
       "      <td>-1</td>\n",
       "      <td>-7</td>\n",
       "    </tr>\n",
       "    <tr>\n",
       "      <th>3</th>\n",
       "      <td>7</td>\n",
       "      <td>45</td>\n",
       "      <td>6</td>\n",
       "      <td>50</td>\n",
       "      <td>1990</td>\n",
       "      <td>trans</td>\n",
       "      <td>1</td>\n",
       "      <td>-5</td>\n",
       "    </tr>\n",
       "  </tbody>\n",
       "</table>\n",
       "</div>"
      ],
      "text/plain": [
       "   en_words  en_chars  ru_words  ru_chars  year   body  diff_len_w  diff_len_c\n",
       "0         2        14         2        18  1990  trans           0          -4\n",
       "1         4        30         3        34  1990  trans           1          -4\n",
       "2         3        26         4        33  1990  trans          -1          -7\n",
       "3         7        45         6        50  1990  trans           1          -5"
      ]
     },
     "execution_count": 130,
     "metadata": {},
     "output_type": "execute_result"
    }
   ],
   "source": [
    "df.head(4)"
   ]
  },
  {
   "cell_type": "code",
   "execution_count": 131,
   "metadata": {},
   "outputs": [
    {
     "data": {
      "text/html": [
       "<div>\n",
       "<style scoped>\n",
       "    .dataframe tbody tr th:only-of-type {\n",
       "        vertical-align: middle;\n",
       "    }\n",
       "\n",
       "    .dataframe tbody tr th {\n",
       "        vertical-align: top;\n",
       "    }\n",
       "\n",
       "    .dataframe thead th {\n",
       "        text-align: right;\n",
       "    }\n",
       "</style>\n",
       "<table border=\"1\" class=\"dataframe\">\n",
       "  <thead>\n",
       "    <tr style=\"text-align: right;\">\n",
       "      <th></th>\n",
       "      <th>en_words</th>\n",
       "      <th>en_chars</th>\n",
       "      <th>ru_words</th>\n",
       "      <th>ru_chars</th>\n",
       "      <th>year</th>\n",
       "      <th>diff_len_w</th>\n",
       "      <th>diff_len_c</th>\n",
       "    </tr>\n",
       "  </thead>\n",
       "  <tbody>\n",
       "    <tr>\n",
       "      <th>count</th>\n",
       "      <td>18217590</td>\n",
       "      <td>18217590</td>\n",
       "      <td>18217590</td>\n",
       "      <td>18217590</td>\n",
       "      <td>18217590</td>\n",
       "      <td>18217590</td>\n",
       "      <td>18217590</td>\n",
       "    </tr>\n",
       "    <tr>\n",
       "      <th>mean</th>\n",
       "      <td>26</td>\n",
       "      <td>168</td>\n",
       "      <td>24</td>\n",
       "      <td>186</td>\n",
       "      <td>2005</td>\n",
       "      <td>2</td>\n",
       "      <td>-18</td>\n",
       "    </tr>\n",
       "    <tr>\n",
       "      <th>std</th>\n",
       "      <td>19</td>\n",
       "      <td>124</td>\n",
       "      <td>17</td>\n",
       "      <td>138</td>\n",
       "      <td>6</td>\n",
       "      <td>5</td>\n",
       "      <td>34</td>\n",
       "    </tr>\n",
       "    <tr>\n",
       "      <th>min</th>\n",
       "      <td>1</td>\n",
       "      <td>1</td>\n",
       "      <td>1</td>\n",
       "      <td>1</td>\n",
       "      <td>1990</td>\n",
       "      <td>-655</td>\n",
       "      <td>-5432</td>\n",
       "    </tr>\n",
       "    <tr>\n",
       "      <th>25%</th>\n",
       "      <td>13</td>\n",
       "      <td>84</td>\n",
       "      <td>12</td>\n",
       "      <td>93</td>\n",
       "      <td>2000</td>\n",
       "      <td>-1</td>\n",
       "      <td>-32</td>\n",
       "    </tr>\n",
       "    <tr>\n",
       "      <th>50%</th>\n",
       "      <td>23</td>\n",
       "      <td>147</td>\n",
       "      <td>21</td>\n",
       "      <td>162</td>\n",
       "      <td>2006</td>\n",
       "      <td>2</td>\n",
       "      <td>-12</td>\n",
       "    </tr>\n",
       "    <tr>\n",
       "      <th>75%</th>\n",
       "      <td>34</td>\n",
       "      <td>222</td>\n",
       "      <td>31</td>\n",
       "      <td>246</td>\n",
       "      <td>2010</td>\n",
       "      <td>5</td>\n",
       "      <td>1</td>\n",
       "    </tr>\n",
       "    <tr>\n",
       "      <th>max</th>\n",
       "      <td>1692</td>\n",
       "      <td>11542</td>\n",
       "      <td>1501</td>\n",
       "      <td>12570</td>\n",
       "      <td>2014</td>\n",
       "      <td>262</td>\n",
       "      <td>2531</td>\n",
       "    </tr>\n",
       "  </tbody>\n",
       "</table>\n",
       "</div>"
      ],
      "text/plain": [
       "       en_words  en_chars  ru_words  ru_chars     year  diff_len_w  diff_len_c\n",
       "count  18217590  18217590  18217590  18217590 18217590    18217590    18217590\n",
       "mean         26       168        24       186     2005           2         -18\n",
       "std          19       124        17       138        6           5          34\n",
       "min           1         1         1         1     1990        -655       -5432\n",
       "25%          13        84        12        93     2000          -1         -32\n",
       "50%          23       147        21       162     2006           2         -12\n",
       "75%          34       222        31       246     2010           5           1\n",
       "max        1692     11542      1501     12570     2014         262        2531"
      ]
     },
     "execution_count": 131,
     "metadata": {},
     "output_type": "execute_result"
    }
   ],
   "source": [
    "df.describe()"
   ]
  },
  {
   "cell_type": "code",
   "execution_count": 102,
   "metadata": {
    "scrolled": true
   },
   "outputs": [
    {
     "name": "stdout",
     "output_type": "stream",
     "text": [
      "468927461\n",
      "3057859917\n",
      "431839641\n",
      "3382608562\n"
     ]
    }
   ],
   "source": [
    "# Совпадает ли кол-во слов и симвлом с результатом wc\n",
    "print(df['en_words'].sum())\n",
    "print(df['en_chars'].sum())\n",
    "\n",
    "print(df['ru_words'].sum())\n",
    "print(df['ru_chars'].sum())\n",
    "# Символы не совпадают, т. к. wc считала и \\n тоже"
   ]
  },
  {
   "cell_type": "code",
   "execution_count": 113,
   "metadata": {
    "scrolled": true
   },
   "outputs": [
    {
     "data": {
      "text/plain": [
       "276"
      ]
     },
     "execution_count": 113,
     "metadata": {},
     "output_type": "execute_result"
    }
   ],
   "source": [
    "# среднее кол-во слов на страницу из 1800 символов (с пробелами) в английском\n",
    "round(468927461/(3057859917/1800))"
   ]
  },
  {
   "cell_type": "code",
   "execution_count": 114,
   "metadata": {
    "scrolled": true
   },
   "outputs": [
    {
     "data": {
      "text/plain": [
       "230"
      ]
     },
     "execution_count": 114,
     "metadata": {},
     "output_type": "execute_result"
    }
   ],
   "source": [
    "# среднее кол-во слов на страницу из 1800 символов (с пробелами) в русском\n",
    "round(431839641/(3382608562/1800))"
   ]
  },
  {
   "cell_type": "code",
   "execution_count": null,
   "metadata": {},
   "outputs": [],
   "source": []
  }
 ],
 "metadata": {
  "kernelspec": {
   "display_name": "Python 3",
   "language": "python",
   "name": "python3"
  },
  "language_info": {
   "codemirror_mode": {
    "name": "ipython",
    "version": 3
   },
   "file_extension": ".py",
   "mimetype": "text/x-python",
   "name": "python",
   "nbconvert_exporter": "python",
   "pygments_lexer": "ipython3",
   "version": "3.7.9"
  }
 },
 "nbformat": 4,
 "nbformat_minor": 4
}
